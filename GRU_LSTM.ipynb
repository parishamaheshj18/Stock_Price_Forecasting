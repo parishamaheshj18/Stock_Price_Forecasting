{
 "cells": [
  {
   "cell_type": "code",
   "execution_count": null,
   "metadata": {
    "_cell_guid": "b1076dfc-b9ad-4769-8c92-a6c4dae69d19",
    "_uuid": "8f2839f25d086af736a60e9eeb907d3b93b6e0e5",
    "execution": {
     "iopub.execute_input": "2024-04-10T14:23:48.150105Z",
     "iopub.status.busy": "2024-04-10T14:23:48.149624Z",
     "iopub.status.idle": "2024-04-10T14:23:53.476501Z",
     "shell.execute_reply": "2024-04-10T14:23:53.475159Z",
     "shell.execute_reply.started": "2024-04-10T14:23:48.150064Z"
    }
   },
   "outputs": [],
   "source": [
    "import numpy as np\n",
    "import pandas as pd\n",
    "import matplotlib.pyplot as plt\n",
    "import os\n",
    "plt.style.use('ggplot')\n",
    "from sklearn.preprocessing import MinMaxScaler\n",
    "from keras.layers import Dense, LSTM, Dropout, GRU, Bidirectional\n",
    "from keras.models import Sequential\n",
    "from keras.optimizers import SGD\n",
    "from sklearn.metrics import mean_squared_error\n",
    "import math\n",
    "\n",
    "for dirname, _, filenames in os.walk('/kaggle/input'):\n",
    "    for filename in filenames:\n",
    "        print(os.path.join(dirname, filename))"
   ]
  },
  {
   "cell_type": "code",
   "execution_count": null,
   "metadata": {
    "execution": {
     "iopub.execute_input": "2024-04-10T14:23:53.48038Z",
     "iopub.status.busy": "2024-04-10T14:23:53.479142Z",
     "iopub.status.idle": "2024-04-10T14:23:53.518725Z",
     "shell.execute_reply": "2024-04-10T14:23:53.517388Z",
     "shell.execute_reply.started": "2024-04-10T14:23:53.480328Z"
    }
   },
   "outputs": [],
   "source": [
    "dataset = pd.read_csv('../Data/AMZN_2006-01-01_to_2018-01-01.csv', index_col='Date', parse_dates=['Date'])\n",
    "dataset.tail()"
   ]
  },
  {
   "cell_type": "code",
   "execution_count": null,
   "metadata": {
    "execution": {
     "iopub.execute_input": "2024-04-10T14:23:53.52145Z",
     "iopub.status.busy": "2024-04-10T14:23:53.520664Z",
     "iopub.status.idle": "2024-04-10T14:23:57.330368Z",
     "shell.execute_reply": "2024-04-10T14:23:57.329069Z",
     "shell.execute_reply.started": "2024-04-10T14:23:53.521407Z"
    }
   },
   "outputs": [],
   "source": [
    "#Plot all the data of Amazon stocks that exist in the dataset\n",
    "dataset.plot(subplots=True, figsize=(10,12))\n",
    "plt.suptitle('AMZN stock attributes from 2006 to 2017')\n",
    "plt.savefig('AMZN_stocks.png')\n",
    "plt.show()"
   ]
  },
  {
   "cell_type": "code",
   "execution_count": null,
   "metadata": {
    "execution": {
     "iopub.execute_input": "2024-04-10T14:23:57.334835Z",
     "iopub.status.busy": "2024-04-10T14:23:57.333512Z",
     "iopub.status.idle": "2024-04-10T14:23:57.342359Z",
     "shell.execute_reply": "2024-04-10T14:23:57.341242Z",
     "shell.execute_reply.started": "2024-04-10T14:23:57.334771Z"
    }
   },
   "outputs": [],
   "source": [
    "# Functions for using in LSTM and the GRU algorithm \n",
    "def plot_predictions(test,predicted):\n",
    "    plt.plot(test, color='red',label='Real AMZ Stock Price')\n",
    "    plt.plot(predicted, color='blue',label='Predicted AMZ Stock Price')\n",
    "    plt.xlabel('Date')\n",
    "    plt.ylabel('AMZ Stock Price')\n",
    "    plt.title('AMZ Stock Price Prediction')\n",
    "    plt.legend()\n",
    "    plt.show()\n",
    "\n",
    "def return_rmse(test,predicted):\n",
    "    rmse = math.sqrt(mean_squared_error(test, predicted))\n",
    "    print(\"The root mean squared error is {}.\".format(rmse))"
   ]
  },
  {
   "cell_type": "code",
   "execution_count": null,
   "metadata": {
    "execution": {
     "iopub.execute_input": "2024-04-10T14:23:57.344982Z",
     "iopub.status.busy": "2024-04-10T14:23:57.344181Z",
     "iopub.status.idle": "2024-04-10T14:23:57.362334Z",
     "shell.execute_reply": "2024-04-10T14:23:57.361312Z",
     "shell.execute_reply.started": "2024-04-10T14:23:57.344943Z"
    }
   },
   "outputs": [],
   "source": [
    "# spliting to train and test data. deciding that 2017 it will be the test year.\n",
    "training_set = dataset[:'2016'].iloc[:,1:2].values\n",
    "test_set = dataset['2017':].iloc[:,1:2].values"
   ]
  },
  {
   "cell_type": "code",
   "execution_count": null,
   "metadata": {
    "execution": {
     "iopub.execute_input": "2024-04-10T14:23:57.364383Z",
     "iopub.status.busy": "2024-04-10T14:23:57.363802Z",
     "iopub.status.idle": "2024-04-10T14:23:57.381216Z",
     "shell.execute_reply": "2024-04-10T14:23:57.379979Z",
     "shell.execute_reply.started": "2024-04-10T14:23:57.364349Z"
    }
   },
   "outputs": [],
   "source": [
    "training_set.shape"
   ]
  },
  {
   "cell_type": "code",
   "execution_count": null,
   "metadata": {
    "execution": {
     "iopub.execute_input": "2024-04-10T14:23:57.383187Z",
     "iopub.status.busy": "2024-04-10T14:23:57.382737Z",
     "iopub.status.idle": "2024-04-10T14:23:57.394508Z",
     "shell.execute_reply": "2024-04-10T14:23:57.393172Z",
     "shell.execute_reply.started": "2024-04-10T14:23:57.383152Z"
    }
   },
   "outputs": [],
   "source": [
    "test_set.shape"
   ]
  },
  {
   "cell_type": "code",
   "execution_count": null,
   "metadata": {
    "execution": {
     "iopub.execute_input": "2024-04-10T14:23:57.396818Z",
     "iopub.status.busy": "2024-04-10T14:23:57.396439Z",
     "iopub.status.idle": "2024-04-10T14:23:57.40982Z",
     "shell.execute_reply": "2024-04-10T14:23:57.408611Z",
     "shell.execute_reply.started": "2024-04-10T14:23:57.396786Z"
    }
   },
   "outputs": [],
   "source": [
    "test_set.shape[0] / dataset.shape[0]"
   ]
  },
  {
   "cell_type": "markdown",
   "metadata": {},
   "source": [
    "The test data is 8.3% of the whole data"
   ]
  },
  {
   "cell_type": "code",
   "execution_count": null,
   "metadata": {
    "execution": {
     "iopub.execute_input": "2024-04-10T14:23:57.412199Z",
     "iopub.status.busy": "2024-04-10T14:23:57.411793Z",
     "iopub.status.idle": "2024-04-10T14:23:57.955329Z",
     "shell.execute_reply": "2024-04-10T14:23:57.954286Z",
     "shell.execute_reply.started": "2024-04-10T14:23:57.412163Z"
    }
   },
   "outputs": [],
   "source": [
    "# We have chosen 'Close' attribute for prices. Let's see what it looks like\n",
    "dataset[\"Close\"][:'2016'].plot(figsize=(16,4),legend=True)\n",
    "dataset[\"Close\"]['2017':].plot(figsize=(16,4),legend=True)\n",
    "plt.legend(['Training set (Before 2017)','Test set (2017 and beyond)'])\n",
    "plt.title('AMZ stock price')\n",
    "plt.show()"
   ]
  },
  {
   "cell_type": "code",
   "execution_count": null,
   "metadata": {
    "execution": {
     "iopub.execute_input": "2024-04-10T14:23:57.960435Z",
     "iopub.status.busy": "2024-04-10T14:23:57.959356Z",
     "iopub.status.idle": "2024-04-10T14:23:57.966941Z",
     "shell.execute_reply": "2024-04-10T14:23:57.965804Z",
     "shell.execute_reply.started": "2024-04-10T14:23:57.960394Z"
    }
   },
   "outputs": [],
   "source": [
    "# Scaling the training set\n",
    "sc = MinMaxScaler(feature_range=(0,1))\n",
    "training_set_scaled = sc.fit_transform(training_set)"
   ]
  },
  {
   "cell_type": "code",
   "execution_count": null,
   "metadata": {
    "execution": {
     "iopub.execute_input": "2024-04-10T14:23:57.969111Z",
     "iopub.status.busy": "2024-04-10T14:23:57.96851Z",
     "iopub.status.idle": "2024-04-10T14:23:57.987137Z",
     "shell.execute_reply": "2024-04-10T14:23:57.985385Z",
     "shell.execute_reply.started": "2024-04-10T14:23:57.969076Z"
    }
   },
   "outputs": [],
   "source": [
    "# Since LSTMs store long term memory state, we create a data structure with 60 timesteps and 1 output\n",
    "# So for each element of training set, we have 60 previous training set elements \n",
    "X_train = []\n",
    "y_train = []\n",
    "for i in range(60,training_set.shape[0]):\n",
    "    X_train.append(training_set_scaled[i-60:i,0])\n",
    "    y_train.append(training_set_scaled[i,0])\n",
    "X_train, y_train = np.array(X_train), np.array(y_train)"
   ]
  },
  {
   "cell_type": "code",
   "execution_count": null,
   "metadata": {
    "execution": {
     "iopub.execute_input": "2024-04-10T14:23:57.988972Z",
     "iopub.status.busy": "2024-04-10T14:23:57.988569Z",
     "iopub.status.idle": "2024-04-10T14:23:57.998362Z",
     "shell.execute_reply": "2024-04-10T14:23:57.996601Z",
     "shell.execute_reply.started": "2024-04-10T14:23:57.98893Z"
    }
   },
   "outputs": [],
   "source": [
    "# Reshaping X_train for efficient modelling\n",
    "X_train = np.reshape(X_train, (X_train.shape[0],X_train.shape[1],1))"
   ]
  },
  {
   "cell_type": "code",
   "execution_count": null,
   "metadata": {
    "execution": {
     "iopub.execute_input": "2024-04-10T14:23:58.001608Z",
     "iopub.status.busy": "2024-04-10T14:23:58.000282Z",
     "iopub.status.idle": "2024-04-10T14:23:58.017626Z",
     "shell.execute_reply": "2024-04-10T14:23:58.016644Z",
     "shell.execute_reply.started": "2024-04-10T14:23:58.001558Z"
    }
   },
   "outputs": [],
   "source": [
    "X_train.shape"
   ]
  },
  {
   "cell_type": "markdown",
   "metadata": {},
   "source": [
    "# LSTM"
   ]
  },
  {
   "cell_type": "code",
   "execution_count": null,
   "metadata": {
    "execution": {
     "iopub.execute_input": "2024-04-10T14:23:58.020126Z",
     "iopub.status.busy": "2024-04-10T14:23:58.019191Z",
     "iopub.status.idle": "2024-04-10T14:32:08.531283Z",
     "shell.execute_reply": "2024-04-10T14:32:08.529934Z",
     "shell.execute_reply.started": "2024-04-10T14:23:58.020091Z"
    }
   },
   "outputs": [],
   "source": [
    "# The LSTM architecture\n",
    "regressor = Sequential()\n",
    "# First LSTM layer with Dropout regularisation\n",
    "regressor.add(LSTM(units=50, return_sequences=True, input_shape=(X_train.shape[1],1)))\n",
    "regressor.add(Dropout(0.2))\n",
    "# Second LSTM layer\n",
    "regressor.add(LSTM(units=50, return_sequences=True))\n",
    "regressor.add(Dropout(0.2))\n",
    "# Third LSTM layer\n",
    "regressor.add(LSTM(units=50, return_sequences=True))\n",
    "regressor.add(Dropout(0.2))\n",
    "# Fourth LSTM layer\n",
    "regressor.add(LSTM(units=50))\n",
    "regressor.add(Dropout(0.2))\n",
    "# The output layer\n",
    "regressor.add(Dense(units=1))\n",
    "\n",
    "# Compiling the RNN\n",
    "regressor.compile(optimizer='rmsprop',loss='mean_squared_error')\n",
    "# Fitting to the training set\n",
    "regressor.fit(X_train,y_train,epochs=50,batch_size=32)"
   ]
  },
  {
   "cell_type": "code",
   "execution_count": null,
   "metadata": {
    "execution": {
     "iopub.execute_input": "2024-04-10T14:32:08.534229Z",
     "iopub.status.busy": "2024-04-10T14:32:08.533444Z",
     "iopub.status.idle": "2024-04-10T14:32:08.547101Z",
     "shell.execute_reply": "2024-04-10T14:32:08.545855Z",
     "shell.execute_reply.started": "2024-04-10T14:32:08.534182Z"
    }
   },
   "outputs": [],
   "source": [
    "# Now to get the test set ready in a similar way as the training set.\n",
    "# The following has been done so forst 60 entires of test set have 60 previous values which \n",
    "#is impossible to get unless we take the whole \n",
    "# 'Close' attribute data for processing\n",
    "dataset_total = pd.concat((dataset[\"Close\"][:'2016'],dataset[\"Close\"]['2017':]),axis=0)\n",
    "test_inputs = dataset_total[len(dataset_total)-len(test_set) - 60:].values\n",
    "test_inputs = test_inputs.reshape(-1,1)\n",
    "test_inputs  = sc.transform(test_inputs)"
   ]
  },
  {
   "cell_type": "code",
   "execution_count": null,
   "metadata": {
    "execution": {
     "iopub.execute_input": "2024-04-10T14:32:08.549399Z",
     "iopub.status.busy": "2024-04-10T14:32:08.548911Z",
     "iopub.status.idle": "2024-04-10T14:32:10.096598Z",
     "shell.execute_reply": "2024-04-10T14:32:10.094962Z",
     "shell.execute_reply.started": "2024-04-10T14:32:08.549355Z"
    }
   },
   "outputs": [],
   "source": [
    "# Preparing X_test and predicting the prices\n",
    "X_test = []\n",
    "for i in range(60,test_inputs.shape[0]):\n",
    "    X_test.append(test_inputs[i-60:i,0])\n",
    "X_test = np.array(X_test)\n",
    "X_test = np.reshape(X_test, (X_test.shape[0],X_test.shape[1],1))\n",
    "predicted_stock_price = regressor.predict(X_test)\n",
    "predicted_stock_price = sc.inverse_transform(predicted_stock_price)"
   ]
  },
  {
   "cell_type": "code",
   "execution_count": null,
   "metadata": {
    "execution": {
     "iopub.execute_input": "2024-04-10T14:32:10.09872Z",
     "iopub.status.busy": "2024-04-10T14:32:10.09822Z",
     "iopub.status.idle": "2024-04-10T14:32:10.387814Z",
     "shell.execute_reply": "2024-04-10T14:32:10.386519Z",
     "shell.execute_reply.started": "2024-04-10T14:32:10.098665Z"
    }
   },
   "outputs": [],
   "source": [
    "# Visualizing the results for LSTM\n",
    "plot_predictions(test_set,predicted_stock_price)"
   ]
  },
  {
   "cell_type": "code",
   "execution_count": null,
   "metadata": {
    "execution": {
     "iopub.execute_input": "2024-04-10T14:32:10.390261Z",
     "iopub.status.busy": "2024-04-10T14:32:10.389378Z",
     "iopub.status.idle": "2024-04-10T14:32:10.399251Z",
     "shell.execute_reply": "2024-04-10T14:32:10.397736Z",
     "shell.execute_reply.started": "2024-04-10T14:32:10.390206Z"
    }
   },
   "outputs": [],
   "source": [
    "# Evaluating our model\n",
    "return_rmse(test_set,predicted_stock_price)"
   ]
  },
  {
   "cell_type": "markdown",
   "metadata": {},
   "source": [
    "# GRU"
   ]
  },
  {
   "cell_type": "code",
   "execution_count": null,
   "metadata": {
    "execution": {
     "iopub.execute_input": "2024-04-10T14:32:10.401152Z",
     "iopub.status.busy": "2024-04-10T14:32:10.400706Z",
     "iopub.status.idle": "2024-04-10T14:36:19.928959Z",
     "shell.execute_reply": "2024-04-10T14:36:19.927383Z",
     "shell.execute_reply.started": "2024-04-10T14:32:10.401119Z"
    }
   },
   "outputs": [],
   "source": [
    "# The GRU architecture\n",
    "regressorGRU = Sequential()\n",
    "# First GRU layer with Dropout regularisation\n",
    "regressorGRU.add(GRU(units=50, return_sequences=True, input_shape=(X_train.shape[1],1), activation='tanh'))\n",
    "regressorGRU.add(Dropout(0.2))\n",
    "# Second GRU layer\n",
    "regressorGRU.add(GRU(units=50, return_sequences=True, input_shape=(X_train.shape[1],1), activation='tanh'))\n",
    "regressorGRU.add(Dropout(0.2))\n",
    "# Third GRU layer\n",
    "regressorGRU.add(GRU(units=50, return_sequences=True, input_shape=(X_train.shape[1],1), activation='tanh'))\n",
    "regressorGRU.add(Dropout(0.2))\n",
    "# Fourth GRU layer\n",
    "regressorGRU.add(GRU(units=50, activation='tanh'))\n",
    "regressorGRU.add(Dropout(0.2))\n",
    "# The output layer\n",
    "regressorGRU.add(Dense(units=1))\n",
    "# Compiling the RNN\n",
    "regressorGRU.compile(optimizer=SGD(learning_rate=0.01, momentum=0.9, nesterov=False),loss='mean_squared_error')\n",
    "# Fitting to the training set\n",
    "regressorGRU.fit(X_train,y_train,epochs=50,batch_size=150)"
   ]
  },
  {
   "cell_type": "code",
   "execution_count": null,
   "metadata": {
    "execution": {
     "iopub.execute_input": "2024-04-10T14:36:19.931219Z",
     "iopub.status.busy": "2024-04-10T14:36:19.930671Z",
     "iopub.status.idle": "2024-04-10T14:36:21.754614Z",
     "shell.execute_reply": "2024-04-10T14:36:21.753488Z",
     "shell.execute_reply.started": "2024-04-10T14:36:19.931171Z"
    }
   },
   "outputs": [],
   "source": [
    "# Preparing X_test and predicting the prices\n",
    "X_test = []\n",
    "for i in range(60,test_inputs.shape[0]):\n",
    "    X_test.append(test_inputs[i-60:i,0])\n",
    "X_test = np.array(X_test)\n",
    "X_test = np.reshape(X_test, (X_test.shape[0],X_test.shape[1],1))\n",
    "GRU_predicted_stock_price = regressorGRU.predict(X_test)\n",
    "GRU_predicted_stock_price = sc.inverse_transform(GRU_predicted_stock_price)"
   ]
  },
  {
   "cell_type": "code",
   "execution_count": null,
   "metadata": {
    "execution": {
     "iopub.execute_input": "2024-04-10T14:36:21.757079Z",
     "iopub.status.busy": "2024-04-10T14:36:21.756272Z",
     "iopub.status.idle": "2024-04-10T14:36:22.035293Z",
     "shell.execute_reply": "2024-04-10T14:36:22.03394Z",
     "shell.execute_reply.started": "2024-04-10T14:36:21.757021Z"
    }
   },
   "outputs": [],
   "source": [
    "# Visualizing the results for GRU\n",
    "plot_predictions(test_set,GRU_predicted_stock_price)"
   ]
  },
  {
   "cell_type": "code",
   "execution_count": null,
   "metadata": {
    "execution": {
     "iopub.execute_input": "2024-04-10T14:36:22.037369Z",
     "iopub.status.busy": "2024-04-10T14:36:22.036894Z",
     "iopub.status.idle": "2024-04-10T14:36:22.045848Z",
     "shell.execute_reply": "2024-04-10T14:36:22.044474Z",
     "shell.execute_reply.started": "2024-04-10T14:36:22.037326Z"
    }
   },
   "outputs": [],
   "source": [
    "# Evaluating GRU\n",
    "return_rmse(test_set,GRU_predicted_stock_price)"
   ]
  },
  {
   "cell_type": "markdown",
   "metadata": {},
   "source": [
    "GRU algorithm is better in this case. The RMSE is better and we can see similar trend between the real stock prices and the predicted stock prices by the GRU algorithm."
   ]
  },
  {
   "cell_type": "markdown",
   "metadata": {},
   "source": []
  }
 ],
 "metadata": {
  "kaggle": {
   "accelerator": "none",
   "dataSources": [
    {
     "datasetId": 8388,
     "sourceId": 11883,
     "sourceType": "datasetVersion"
    }
   ],
   "dockerImageVersionId": 30684,
   "isGpuEnabled": false,
   "isInternetEnabled": false,
   "language": "python",
   "sourceType": "notebook"
  },
  "kernelspec": {
   "display_name": "Python 3 (ipykernel)",
   "language": "python",
   "name": "python3"
  },
  "language_info": {
   "codemirror_mode": {
    "name": "ipython",
    "version": 3
   },
   "file_extension": ".py",
   "mimetype": "text/x-python",
   "name": "python",
   "nbconvert_exporter": "python",
   "pygments_lexer": "ipython3",
   "version": "3.8.18"
  }
 },
 "nbformat": 4,
 "nbformat_minor": 4
}
